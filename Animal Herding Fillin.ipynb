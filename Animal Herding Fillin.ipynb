{
 "cells": [
  {
   "cell_type": "markdown",
   "metadata": {},
   "source": [
    "# TuLiP Example: Animal Herding"
   ]
  },
  {
   "cell_type": "code",
   "execution_count": null,
   "metadata": {},
   "outputs": [],
   "source": [
    "import numpy as np\n",
    "from itertools import product\n",
    "import matplotlib.pyplot as plt\n",
    "import networkx as nx\n",
    "\n",
    "from tulip import transys, spec, synth, dumpsmach, gridworld"
   ]
  },
  {
   "cell_type": "markdown",
   "metadata": {},
   "source": [
    "## Construct a gridworld for the robot"
   ]
  },
  {
   "cell_type": "code",
   "execution_count": null,
   "metadata": {},
   "outputs": [],
   "source": [
    "W = 7   # with of gridworld\n",
    "H = 7   # height of gridworld\n",
    "\n",
    "fts = transys.FTS()\n",
    "\n",
    "# add nodes (state set X)\n",
    "fts.add_nodes_from('a{}x{}'.format(i,j) for i in range(W) for j in range(H))\n",
    "\n",
    "# add actions (input set U)\n",
    "fts.sys_actions.add_from(['north', 'west', 'south', 'east'])\n",
    "\n",
    "# add transitions\n",
    "for i in range(W):\n",
    "    for j in range(H):\n",
    "        fts.add_edge( 'a{}x{}'.format(i,j), 'a{}x{}'.format(i,min(H-1,j+1)), sys_actions='north')\n",
    "        fts.add_edge( 'a{}x{}'.format(i,j), 'a{}x{}'.format(i,max(0,  j-1)), sys_actions='south')\n",
    "        fts.add_edge( 'a{}x{}'.format(i,j), 'a{}x{}'.format(min(W-1, i+1),j), sys_actions='east')\n",
    "        fts.add_edge( 'a{}x{}'.format(i,j), 'a{}x{}'.format(max(0,   i-1),j), sys_actions='west')\n",
    "\n",
    "# draw with networkx\n",
    "pos = dict()\n",
    "for i in range(W):\n",
    "    for j in range(H):\n",
    "        pos['a{}x{}'.format(i,j)] = (i,j)\n",
    "        \n",
    "nx.draw_networkx(fts, with_labels=True, arrows=True, node_size=500, pos = pos)"
   ]
  },
  {
   "cell_type": "code",
   "execution_count": null,
   "metadata": {},
   "outputs": [],
   "source": [
    "# draw with tulip\n",
    "fts.plot()"
   ]
  },
  {
   "cell_type": "markdown",
   "metadata": {},
   "source": [
    "## Define atomic propositions and specification"
   ]
  },
  {
   "cell_type": "code",
   "execution_count": null,
   "metadata": {},
   "outputs": [],
   "source": [
    "# Add atomic propositions\n",
    "fts.atomic_propositions |= {'blocked', 'cat_target', 'mouse_target', 'dog_target'}\n",
    "\n",
    "# define blocked states\n",
    "blocked_list = ['a0x1', 'a0x6', 'a1x4', 'a2x1', 'a2x3', 'a3x3', \\\n",
    "                'a3x6', 'a4x0', 'a4x5', 'a4x6', 'a5x5', 'a5x6', \\\n",
    "                'a6x3', 'a6x6']\n",
    "    \n",
    "for state in blocked_list:\n",
    "    fts.node[state]['ap'] |= {'blocked'}\n",
    "\n",
    "fts.node['a6x0']['ap'] |= {'cat_target'}\n",
    "fts.node['a6x5']['ap'] |= {'mouse_target'}\n",
    "fts.node['a0x0']['ap'] |= {'dog_target'}\n",
    "\n",
    "for state in fts.states():\n",
    "    if state not in blocked_list:\n",
    "        fts.states.initial.add(state)\n",
    "\n",
    "\n",
    "# Formula variables\n",
    "env_vars = {'dog', 'cat', 'mouse'}\n",
    "sys_vars = {'bone', 'yarn', 'flute'}\n",
    "\n",
    "# Intitialize and requirements\n",
    "env_safe = set()\n",
    "sys_safe = set()\n",
    "sys_prog = set()\n",
    "\n",
    "# Don't visit blocked regions\n",
    "sys_safe |= {'! blocked'}\n",
    "\n",
    "# Add some targets to visit\n",
    "sys_prog |= {'eloc = \"a0x2\"', 'eloc = \"a4x4\"', 'eloc = \"a5x0\"', 'eloc = \"a3x0\"'}\n",
    "\n",
    "\n",
    "#### TRANSLATE REQUIREMENTS TO SPECS ####\n",
    "\n",
    "# REQ: If sensing an animal, herd at least one\n",
    "\n",
    "# REQ: If no dog, dont show bone\n",
    "\n",
    "# REQ: If no mouse, dont show flute\n",
    "\n",
    "# REQ: If no cat, dont show yarn\n",
    "\n",
    "# REQ: If herding, eventually reach target\n",
    "\n",
    "# REQ: Can't herd dog and cat at the same time \n",
    "\n",
    "# REQ: Can't herd cat and mouse at the same time\n",
    "    \n",
    "# EXTRA: prioritize mouse over cat\n",
    "\n",
    "formula = spec.GRSpec(env_vars=env_vars, \n",
    "                      sys_vars=sys_vars,\n",
    "                      env_safety=env_safe,\n",
    "                      sys_safety=sys_safe,\n",
    "                      sys_prog=sys_prog)\n",
    "\n",
    "print(formula.pretty())"
   ]
  },
  {
   "cell_type": "markdown",
   "metadata": {},
   "source": [
    "## Solve synthesis problem"
   ]
  },
  {
   "cell_type": "code",
   "execution_count": null,
   "metadata": {},
   "outputs": [],
   "source": [
    "# Set formula parameters\n",
    "formula.moore = False     # can see next env state\n",
    "formula.qinit = '\\A \\E'   # solve s.t. for all (\\A) env initial conditions there exists (\\E) sys initial condition \n",
    "\n",
    "fts.owner = 'env'\n",
    "\n",
    "# Print complete spec (sys + spec)\n",
    "# print synth._spec_plus_sys(formula, fts, None, False, False).pretty()\n",
    "\n",
    "ctrl = synth.synthesize('omega', formula, env=fts)\n",
    "\n",
    "dumpsmach.write_python_case(\"herding_policy.py\", ctrl, classname=\"HerdingPolicy\")"
   ]
  },
  {
   "cell_type": "markdown",
   "metadata": {},
   "source": [
    "## Simulation"
   ]
  },
  {
   "cell_type": "code",
   "execution_count": null,
   "metadata": {
    "scrolled": false
   },
   "outputs": [],
   "source": [
    "from herding_policy import HerdingPolicy\n",
    "from simulate_herding import simulate\n",
    "\n",
    "h = HerdingPolicy()\n",
    "simulate(h, fts)"
   ]
  },
  {
   "cell_type": "code",
   "execution_count": null,
   "metadata": {},
   "outputs": [],
   "source": []
  }
 ],
 "metadata": {
  "kernelspec": {
   "display_name": "Python 2",
   "language": "python",
   "name": "python2"
  },
  "language_info": {
   "codemirror_mode": {
    "name": "ipython",
    "version": 2
   },
   "file_extension": ".py",
   "mimetype": "text/x-python",
   "name": "python",
   "nbconvert_exporter": "python",
   "pygments_lexer": "ipython2",
   "version": "2.7.12"
  }
 },
 "nbformat": 4,
 "nbformat_minor": 2
}
